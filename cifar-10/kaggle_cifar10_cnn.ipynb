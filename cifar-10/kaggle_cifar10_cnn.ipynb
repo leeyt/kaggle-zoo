{
 "cells": [
  {
   "cell_type": "markdown",
   "metadata": {},
   "source": [
    "# [Kaggle][Cifar-10] Deep CNN"
   ]
  },
  {
   "cell_type": "markdown",
   "metadata": {},
   "source": [
    "It gets to 75% validation accuracy in 25 epochs, and 79% after 50 epochs."
   ]
  },
  {
   "cell_type": "markdown",
   "metadata": {},
   "source": [
    "## 1. 關於 Cifar-10 資料集\n",
    "\n",
    "CIFAR-10 資料集含有 60,000 張 32x32 彩色圖片，分為 10 類，每一類有 6000 張圖片。官方原始資料集的其中 50,000 張用來訓練，10,000 張用來測試。我們有保留原始資料集的訓練/測試分割。我們提供的檔案有：\n",
    "\n",
    "- train.7z - png 檔案格式的訓練圖片\n",
    "- test.7z - png 檔案格式的測試圖片\n",
    "- trainLabels.csv - 訓練圖片的標籤\n",
    "- sampleSubmission.csv - 提交答案的範例 (id, label)\n",
    "\n",
    "為了勸阻某些作弊的形式 (例如手動加標籤)，我們在測試圖片集另外添加了 290,000 張垃圾圖片。這些圖片在評分時會被忽略。我們也在官方的 10,000 張測試圖片上，進行了無關緊要的改圖，以防止有人會使用檔案雜湊值來做查找。這些圖片異動應該不會太過影響分數。你應該要對全部 300,000 張測試圖片給出預測標籤。\n",
    "\n",
    "資料集的圖片分作下列 10 個類別：\n",
    "\n",
    "- airplane\n",
    "- automobile\n",
    "- bird\n",
    "- cat\n",
    "- deer\n",
    "- dog\n",
    "- frog\n",
    "- horse\n",
    "- ship\n",
    "- truck\n",
    "\n",
    "類別完全沒有重疊。汽車 (automobiles) 和卡車 (trucks) 沒有重疊。汽車 (Automobile) 包含sedans, SUVs, 以及類似的車輛。卡車 (Truck) 只包含大卡車。兩者都不包含小卡車。"
   ]
  },
  {
   "cell_type": "markdown",
   "metadata": {},
   "source": [
    "## 2. Import Library"
   ]
  },
  {
   "cell_type": "code",
   "execution_count": 1,
   "metadata": {
    "scrolled": true
   },
   "outputs": [
    {
     "name": "stderr",
     "output_type": "stream",
     "text": [
      "C:\\Users\\neillee\\Anaconda3\\envs\\tensorflow\\lib\\site-packages\\h5py\\__init__.py:36: FutureWarning: Conversion of the second argument of issubdtype from `float` to `np.floating` is deprecated. In future, it will be treated as `np.float64 == np.dtype(float).type`.\n",
      "  from ._conv import register_converters as _register_converters\n",
      "Using TensorFlow backend.\n"
     ]
    }
   ],
   "source": [
    "import tensorflow as tf\n",
    "\n",
    "from keras.datasets import cifar10\n",
    "from keras.preprocessing.image import ImageDataGenerator\n",
    "from keras.models import Sequential\n",
    "from keras.layers import Dense, Dropout, Activation, Flatten, BatchNormalization\n",
    "from keras.layers import Conv2D, MaxPooling2D, GlobalMaxPooling2D\n",
    "from keras.utils import np_utils\n",
    "from keras.optimizers import Adam\n",
    "from keras.models import Model\n",
    "from keras.layers.core import Lambda\n",
    "from keras.callbacks import EarlyStopping, LearningRateScheduler\n",
    "\n",
    "from sklearn.model_selection import train_test_split\n",
    "\n",
    "import pandas as pd\n",
    "import numpy as np\n",
    "\n",
    "import os\n",
    "from PIL import Image"
   ]
  },
  {
   "cell_type": "markdown",
   "metadata": {},
   "source": [
    "## 3. 資料準備\n",
    "\n",
    "先使用 Keras 提供的資料集做訓練和驗證，然後再將模型套用到 Kaggle 的測試圖片上"
   ]
  },
  {
   "cell_type": "code",
   "execution_count": 2,
   "metadata": {},
   "outputs": [],
   "source": [
    "(X_train, y_train), (X_val, y_val) = cifar10.load_data()"
   ]
  },
  {
   "cell_type": "markdown",
   "metadata": {},
   "source": [
    "## 4.1 訓練與驗證資料的預處理"
   ]
  },
  {
   "cell_type": "code",
   "execution_count": 3,
   "metadata": {},
   "outputs": [
    {
     "name": "stdout",
     "output_type": "stream",
     "text": [
      "train data: images: (50000, 32, 32, 3)  labels: (50000, 1)\n",
      "val data: images: (10000, 32, 32, 3)  labels: (10000, 1)\n"
     ]
    }
   ],
   "source": [
    "print('train data:', 'images:', X_train.shape, \" labels:\", y_train.shape)\n",
    "print('val data:', 'images:', X_val.shape, ' labels:', y_val.shape)"
   ]
  },
  {
   "cell_type": "code",
   "execution_count": 4,
   "metadata": {},
   "outputs": [],
   "source": [
    "# Normalize\n",
    "X_train = X_train.astype('float32') / 255.0\n",
    "X_val   = X_val.astype('float32') / 255.0"
   ]
  },
  {
   "cell_type": "code",
   "execution_count": 5,
   "metadata": {},
   "outputs": [],
   "source": [
    "# Map to convert between textual labels and numerical classes.\n",
    "label_to_class = { 'airplane': 0, 'automobile': 1, 'bird': 2, 'cat': 3, 'deer': 4, 'dog': 5, 'frog': 6, 'horse': 7, 'ship': 8, 'truck': 9 }\n",
    "class_to_label = [ 'airplane', 'automobile', 'bird', 'cat', 'deer', 'dog', 'frog', 'horse', 'ship', 'truck' ]"
   ]
  },
  {
   "cell_type": "code",
   "execution_count": 6,
   "metadata": {},
   "outputs": [],
   "source": [
    "# One hot encoding\n",
    "y_train = np_utils.to_categorical(y_train)\n",
    "y_val = np_utils.to_categorical(y_val)"
   ]
  },
  {
   "cell_type": "markdown",
   "metadata": {},
   "source": [
    "### 4.2 測試資料的預處理"
   ]
  },
  {
   "cell_type": "code",
   "execution_count": 7,
   "metadata": {},
   "outputs": [],
   "source": [
    "test_dir = 'input/test'\n",
    "test_ids = list(range(1, 300001))"
   ]
  },
  {
   "cell_type": "code",
   "execution_count": 8,
   "metadata": {},
   "outputs": [],
   "source": [
    "X_test = np.array([np.array(Image.open(test_dir + '/' + str(test_id) + '.png' )) for test_id in test_ids])"
   ]
  },
  {
   "cell_type": "code",
   "execution_count": 9,
   "metadata": {},
   "outputs": [],
   "source": [
    "X_test = X_test.astype('float32') / 255.0"
   ]
  },
  {
   "cell_type": "markdown",
   "metadata": {},
   "source": [
    "## 4. Build model"
   ]
  },
  {
   "cell_type": "code",
   "execution_count": 10,
   "metadata": {},
   "outputs": [],
   "source": [
    "# Training parameters\n",
    "batch_size = 32\n",
    "num_classes = 10\n",
    "epochs = 1600\n",
    "init_lr = 0.0001\n",
    "weight_decay = 1e-4\n",
    "\n",
    "data_augmentation = True\n",
    "\n",
    "rows, cols = 32, 32\n",
    "channels = 3"
   ]
  },
  {
   "cell_type": "code",
   "execution_count": 11,
   "metadata": {},
   "outputs": [],
   "source": [
    "model = Sequential()\n",
    "\n",
    "model.add(Conv2D(32, (3, 3), padding='same', input_shape=X_train.shape[1:]))\n",
    "model.add(Activation('relu'))\n",
    "model.add(Conv2D(32, (3, 3), padding='same', input_shape=X_train.shape[1:]))\n",
    "model.add(Activation('relu'))\n",
    "model.add(Conv2D(32, (3, 3), padding='same', input_shape=X_train.shape[1:]))\n",
    "model.add(Activation('relu'))\n",
    "model.add(Conv2D(48, (3, 3), padding='same', input_shape=X_train.shape[1:]))\n",
    "model.add(Activation('relu'))\n",
    "model.add(Conv2D(48, (3, 3), padding='same', input_shape=X_train.shape[1:]))\n",
    "model.add(Activation('relu'))\n",
    "model.add(MaxPooling2D(pool_size=(2,2)))\n",
    "model.add(Dropout(0.25))\n",
    "\n",
    "model.add(Conv2D(80, (3, 3), padding='same', input_shape=X_train.shape[1:]))\n",
    "model.add(Activation('relu'))\n",
    "model.add(Conv2D(80, (3, 3), padding='same', input_shape=X_train.shape[1:]))\n",
    "model.add(Activation('relu'))\n",
    "model.add(Conv2D(80, (3, 3), padding='same', input_shape=X_train.shape[1:]))\n",
    "model.add(Activation('relu'))\n",
    "model.add(Conv2D(80, (3, 3), padding='same', input_shape=X_train.shape[1:]))\n",
    "model.add(Activation('relu'))\n",
    "model.add(Conv2D(80, (3, 3), padding='same', input_shape=X_train.shape[1:]))\n",
    "model.add(Activation('relu'))\n",
    "model.add(MaxPooling2D(pool_size=(2,2)))\n",
    "model.add(Dropout(0.25))\n",
    "\n",
    "model.add(Conv2D(128, (3, 3), padding='same', input_shape=X_train.shape[1:]))\n",
    "model.add(Activation('relu'))\n",
    "model.add(Conv2D(128, (3, 3), padding='same', input_shape=X_train.shape[1:]))\n",
    "model.add(Activation('relu'))\n",
    "model.add(Conv2D(128, (3, 3), padding='same', input_shape=X_train.shape[1:]))\n",
    "model.add(Activation('relu'))\n",
    "model.add(Conv2D(128, (3, 3), padding='same', input_shape=X_train.shape[1:]))\n",
    "model.add(Activation('relu'))\n",
    "model.add(Conv2D(128, (3, 3), padding='same', input_shape=X_train.shape[1:]))\n",
    "model.add(Activation('relu'))\n",
    "model.add(GlobalMaxPooling2D())\n",
    "model.add(Dropout(0.25))\n",
    "\n",
    "model.add(Dense(500))\n",
    "model.add(Activation('relu'))\n",
    "model.add(Dropout(0.25))\n",
    "model.add(Dense(num_classes))\n",
    "model.add(Activation('softmax'))"
   ]
  },
  {
   "cell_type": "code",
   "execution_count": 12,
   "metadata": {},
   "outputs": [],
   "source": [
    "opt = Adam(lr=0.0001)\n",
    "model.compile(loss='categorical_crossentropy', optimizer=opt, metrics=['accuracy'])"
   ]
  },
  {
   "cell_type": "code",
   "execution_count": 13,
   "metadata": {},
   "outputs": [
    {
     "name": "stdout",
     "output_type": "stream",
     "text": [
      "_________________________________________________________________\n",
      "Layer (type)                 Output Shape              Param #   \n",
      "=================================================================\n",
      "conv2d_1 (Conv2D)            (None, 32, 32, 32)        896       \n",
      "_________________________________________________________________\n",
      "activation_1 (Activation)    (None, 32, 32, 32)        0         \n",
      "_________________________________________________________________\n",
      "conv2d_2 (Conv2D)            (None, 32, 32, 32)        9248      \n",
      "_________________________________________________________________\n",
      "activation_2 (Activation)    (None, 32, 32, 32)        0         \n",
      "_________________________________________________________________\n",
      "conv2d_3 (Conv2D)            (None, 32, 32, 32)        9248      \n",
      "_________________________________________________________________\n",
      "activation_3 (Activation)    (None, 32, 32, 32)        0         \n",
      "_________________________________________________________________\n",
      "conv2d_4 (Conv2D)            (None, 32, 32, 48)        13872     \n",
      "_________________________________________________________________\n",
      "activation_4 (Activation)    (None, 32, 32, 48)        0         \n",
      "_________________________________________________________________\n",
      "conv2d_5 (Conv2D)            (None, 32, 32, 48)        20784     \n",
      "_________________________________________________________________\n",
      "activation_5 (Activation)    (None, 32, 32, 48)        0         \n",
      "_________________________________________________________________\n",
      "max_pooling2d_1 (MaxPooling2 (None, 16, 16, 48)        0         \n",
      "_________________________________________________________________\n",
      "dropout_1 (Dropout)          (None, 16, 16, 48)        0         \n",
      "_________________________________________________________________\n",
      "conv2d_6 (Conv2D)            (None, 16, 16, 80)        34640     \n",
      "_________________________________________________________________\n",
      "activation_6 (Activation)    (None, 16, 16, 80)        0         \n",
      "_________________________________________________________________\n",
      "conv2d_7 (Conv2D)            (None, 16, 16, 80)        57680     \n",
      "_________________________________________________________________\n",
      "activation_7 (Activation)    (None, 16, 16, 80)        0         \n",
      "_________________________________________________________________\n",
      "conv2d_8 (Conv2D)            (None, 16, 16, 80)        57680     \n",
      "_________________________________________________________________\n",
      "activation_8 (Activation)    (None, 16, 16, 80)        0         \n",
      "_________________________________________________________________\n",
      "conv2d_9 (Conv2D)            (None, 16, 16, 80)        57680     \n",
      "_________________________________________________________________\n",
      "activation_9 (Activation)    (None, 16, 16, 80)        0         \n",
      "_________________________________________________________________\n",
      "conv2d_10 (Conv2D)           (None, 16, 16, 80)        57680     \n",
      "_________________________________________________________________\n",
      "activation_10 (Activation)   (None, 16, 16, 80)        0         \n",
      "_________________________________________________________________\n",
      "max_pooling2d_2 (MaxPooling2 (None, 8, 8, 80)          0         \n",
      "_________________________________________________________________\n",
      "dropout_2 (Dropout)          (None, 8, 8, 80)          0         \n",
      "_________________________________________________________________\n",
      "conv2d_11 (Conv2D)           (None, 8, 8, 128)         92288     \n",
      "_________________________________________________________________\n",
      "activation_11 (Activation)   (None, 8, 8, 128)         0         \n",
      "_________________________________________________________________\n",
      "conv2d_12 (Conv2D)           (None, 8, 8, 128)         147584    \n",
      "_________________________________________________________________\n",
      "activation_12 (Activation)   (None, 8, 8, 128)         0         \n",
      "_________________________________________________________________\n",
      "conv2d_13 (Conv2D)           (None, 8, 8, 128)         147584    \n",
      "_________________________________________________________________\n",
      "activation_13 (Activation)   (None, 8, 8, 128)         0         \n",
      "_________________________________________________________________\n",
      "conv2d_14 (Conv2D)           (None, 8, 8, 128)         147584    \n",
      "_________________________________________________________________\n",
      "activation_14 (Activation)   (None, 8, 8, 128)         0         \n",
      "_________________________________________________________________\n",
      "conv2d_15 (Conv2D)           (None, 8, 8, 128)         147584    \n",
      "_________________________________________________________________\n",
      "activation_15 (Activation)   (None, 8, 8, 128)         0         \n",
      "_________________________________________________________________\n",
      "global_max_pooling2d_1 (Glob (None, 128)               0         \n",
      "_________________________________________________________________\n",
      "dropout_3 (Dropout)          (None, 128)               0         \n",
      "_________________________________________________________________\n",
      "dense_1 (Dense)              (None, 500)               64500     \n",
      "_________________________________________________________________\n",
      "activation_16 (Activation)   (None, 500)               0         \n",
      "_________________________________________________________________\n",
      "dropout_4 (Dropout)          (None, 500)               0         \n",
      "_________________________________________________________________\n",
      "dense_2 (Dense)              (None, 10)                5010      \n",
      "_________________________________________________________________\n",
      "activation_17 (Activation)   (None, 10)                0         \n",
      "=================================================================\n",
      "Total params: 1,071,542\n",
      "Trainable params: 1,071,542\n",
      "Non-trainable params: 0\n",
      "_________________________________________________________________\n"
     ]
    }
   ],
   "source": [
    "model.summary()"
   ]
  },
  {
   "cell_type": "code",
   "execution_count": 14,
   "metadata": {},
   "outputs": [
    {
     "name": "stdout",
     "output_type": "stream",
     "text": [
      "conv2d_1\n",
      "LSUV initializing conv2d_1\n",
      "0.03001838\n",
      "0.99999994\n",
      "activation_1\n",
      "conv2d_2\n",
      "LSUV initializing conv2d_2\n",
      "0.07256476\n",
      "0.9999995\n",
      "activation_2\n",
      "conv2d_3\n",
      "LSUV initializing conv2d_3\n",
      "0.027920663\n",
      "1.0000001\n",
      "activation_3\n",
      "conv2d_4\n",
      "LSUV initializing conv2d_4\n",
      "0.04454322\n",
      "0.9999998\n",
      "activation_4\n",
      "conv2d_5\n",
      "LSUV initializing conv2d_5\n",
      "0.03684223\n",
      "1.0\n",
      "activation_5\n",
      "max_pooling2d_1\n",
      "dropout_1\n",
      "conv2d_6\n",
      "LSUV initializing conv2d_6\n",
      "0.024935763\n",
      "1.0000005\n",
      "activation_6\n",
      "conv2d_7\n",
      "LSUV initializing conv2d_7\n",
      "0.014045073\n",
      "0.9999999\n",
      "activation_7\n",
      "conv2d_8\n",
      "LSUV initializing conv2d_8\n",
      "0.021709315\n",
      "0.9999999\n",
      "activation_8\n",
      "conv2d_9\n",
      "LSUV initializing conv2d_9\n",
      "0.011768572\n",
      "1.0\n",
      "activation_9\n",
      "conv2d_10\n",
      "LSUV initializing conv2d_10\n",
      "0.02417082\n",
      "1.0000002\n",
      "activation_10\n",
      "max_pooling2d_2\n",
      "dropout_2\n",
      "conv2d_11\n",
      "LSUV initializing conv2d_11\n",
      "0.012675786\n",
      "1.0\n",
      "activation_11\n",
      "conv2d_12\n",
      "LSUV initializing conv2d_12\n",
      "0.00843372\n",
      "0.9999999\n",
      "activation_12\n",
      "conv2d_13\n",
      "LSUV initializing conv2d_13\n",
      "0.008772284\n",
      "1.0\n",
      "activation_13\n",
      "conv2d_14\n",
      "LSUV initializing conv2d_14\n",
      "0.010025604\n",
      "1.0000004\n",
      "activation_14\n",
      "conv2d_15\n",
      "LSUV initializing conv2d_15\n",
      "0.009658174\n",
      "1.0\n",
      "activation_15\n",
      "global_max_pooling2d_1\n",
      "dropout_3\n",
      "dense_1\n",
      "LSUV initializing dense_1\n",
      "0.5620884\n",
      "1.0\n",
      "activation_16\n",
      "dropout_4\n",
      "dense_2\n",
      "dense_2 too small\n",
      "activation_17\n",
      "LSUV: total layers initialized 16\n"
     ]
    }
   ],
   "source": [
    "from lsuv_init import LSUVinit\n",
    "\n",
    "model = LSUVinit(model, X_train[:batch_size, :, :, :])"
   ]
  },
  {
   "cell_type": "markdown",
   "metadata": {},
   "source": [
    "## 5. Data augmentation"
   ]
  },
  {
   "cell_type": "code",
   "execution_count": 15,
   "metadata": {},
   "outputs": [
    {
     "name": "stdout",
     "output_type": "stream",
     "text": [
      "Using real-time data augmentation.\n"
     ]
    }
   ],
   "source": [
    "if not data_augmentation:\n",
    "    print('Not using data augmentation.')\n",
    "else:\n",
    "    print('Using real-time data augmentation.')\n",
    "    datagen = ImageDataGenerator(\n",
    "        featurewise_center=False,  # set input mean to 0 over the dataset\n",
    "        samplewise_center=False,  # set each sample mean to 0\n",
    "        featurewise_std_normalization=False,  # divide inputs by std of the dataset\n",
    "        samplewise_std_normalization=False,  # divide each input by its std\n",
    "        zca_whitening=False,  # apply ZCA whitening\n",
    "        rotation_range=15,  # randomly rotate images in the range (degrees, 0 to 180)\n",
    "        width_shift_range=0.1,  # randomly shift images horizontally (fraction of total width)\n",
    "        height_shift_range=0.1,  # randomly shift images vertically (fraction of total height)\n",
    "        horizontal_flip=True,  # randomly flip images\n",
    "        vertical_flip=False) \n",
    "\n",
    "    datagen.fit(X_train)"
   ]
  },
  {
   "cell_type": "markdown",
   "metadata": {},
   "source": [
    "## 6. Train"
   ]
  },
  {
   "cell_type": "code",
   "execution_count": 16,
   "metadata": {},
   "outputs": [],
   "source": [
    "def lr_schedule(epoch):\n",
    "    lr = init_lr\n",
    "    if epoch > 75:\n",
    "        lr = 0.00005\n",
    "    elif epoch > 100:\n",
    "        lr = 0.00003\n",
    "    return lr\n",
    "\n",
    "callbacks = [\n",
    "    LearningRateScheduler(lr_schedule),\n",
    "    EarlyStopping(monitor='val_acc', patience=10)\n",
    "]"
   ]
  },
  {
   "cell_type": "code",
   "execution_count": 17,
   "metadata": {},
   "outputs": [
    {
     "name": "stdout",
     "output_type": "stream",
     "text": [
      "Epoch 1/1600\n",
      "1563/1563 [==============================] - 352s 225ms/step - loss: 2.0936 - acc: 0.1972 - val_loss: 1.7197 - val_acc: 0.3597\n",
      "Epoch 2/1600\n",
      "1563/1563 [==============================] - 346s 221ms/step - loss: 1.6850 - acc: 0.3685 - val_loss: 1.4694 - val_acc: 0.4479\n",
      "Epoch 3/1600\n",
      "1563/1563 [==============================] - 351s 225ms/step - loss: 1.4983 - acc: 0.4458 - val_loss: 1.3946 - val_acc: 0.5019\n",
      "Epoch 4/1600\n",
      "1563/1563 [==============================] - 363s 232ms/step - loss: 1.3599 - acc: 0.5065 - val_loss: 1.3309 - val_acc: 0.5261\n",
      "Epoch 5/1600\n",
      "1563/1563 [==============================] - 368s 236ms/step - loss: 1.2585 - acc: 0.5490 - val_loss: 1.1428 - val_acc: 0.5897\n",
      "Epoch 6/1600\n",
      "1563/1563 [==============================] - 366s 234ms/step - loss: 1.1828 - acc: 0.5748 - val_loss: 1.2241 - val_acc: 0.5725\n",
      "Epoch 7/1600\n",
      "1563/1563 [==============================] - 364s 233ms/step - loss: 1.1100 - acc: 0.6060 - val_loss: 1.0242 - val_acc: 0.6369\n",
      "Epoch 8/1600\n",
      "1563/1563 [==============================] - 358s 229ms/step - loss: 1.0533 - acc: 0.6277 - val_loss: 1.0493 - val_acc: 0.6320\n",
      "Epoch 9/1600\n",
      "1563/1563 [==============================] - 363s 232ms/step - loss: 0.9977 - acc: 0.6456 - val_loss: 0.9689 - val_acc: 0.6713\n",
      "Epoch 10/1600\n",
      "1563/1563 [==============================] - 347s 222ms/step - loss: 0.9607 - acc: 0.6626 - val_loss: 0.8856 - val_acc: 0.6886\n",
      "Epoch 11/1600\n",
      "1563/1563 [==============================] - 346s 221ms/step - loss: 0.9188 - acc: 0.6787 - val_loss: 0.9264 - val_acc: 0.6739\n",
      "Epoch 12/1600\n",
      "1563/1563 [==============================] - 347s 222ms/step - loss: 0.8840 - acc: 0.6890 - val_loss: 0.8111 - val_acc: 0.7180\n",
      "Epoch 13/1600\n",
      "1563/1563 [==============================] - 357s 229ms/step - loss: 0.8556 - acc: 0.7029 - val_loss: 0.9261 - val_acc: 0.6873\n",
      "Epoch 14/1600\n",
      "1563/1563 [==============================] - 369s 236ms/step - loss: 0.8283 - acc: 0.7105 - val_loss: 0.9100 - val_acc: 0.6901\n",
      "Epoch 15/1600\n",
      "1563/1563 [==============================] - 359s 229ms/step - loss: 0.7953 - acc: 0.7225 - val_loss: 0.7999 - val_acc: 0.7188\n",
      "Epoch 16/1600\n",
      "1563/1563 [==============================] - 349s 223ms/step - loss: 0.7801 - acc: 0.7284 - val_loss: 0.8994 - val_acc: 0.7062\n",
      "Epoch 17/1600\n",
      "1563/1563 [==============================] - 348s 223ms/step - loss: 0.7634 - acc: 0.7334 - val_loss: 0.8438 - val_acc: 0.7175\n",
      "Epoch 18/1600\n",
      "1563/1563 [==============================] - 353s 226ms/step - loss: 0.7330 - acc: 0.7448 - val_loss: 0.6998 - val_acc: 0.7593\n",
      "Epoch 19/1600\n",
      "1563/1563 [==============================] - 369s 236ms/step - loss: 0.7146 - acc: 0.7532 - val_loss: 0.7681 - val_acc: 0.7434\n",
      "Epoch 20/1600\n",
      "1563/1563 [==============================] - 368s 235ms/step - loss: 0.6989 - acc: 0.7595 - val_loss: 0.6238 - val_acc: 0.7814\n",
      "Epoch 21/1600\n",
      "1563/1563 [==============================] - 362s 232ms/step - loss: 0.6774 - acc: 0.7659 - val_loss: 0.7352 - val_acc: 0.7504\n",
      "Epoch 22/1600\n",
      "1563/1563 [==============================] - 347s 222ms/step - loss: 0.6632 - acc: 0.7709 - val_loss: 0.7376 - val_acc: 0.7536\n",
      "Epoch 23/1600\n",
      "1563/1563 [==============================] - 347s 222ms/step - loss: 0.6475 - acc: 0.7762 - val_loss: 0.6725 - val_acc: 0.7737\n",
      "Epoch 24/1600\n",
      "1563/1563 [==============================] - 347s 222ms/step - loss: 0.6320 - acc: 0.7822 - val_loss: 0.7311 - val_acc: 0.7603\n",
      "Epoch 25/1600\n",
      "1563/1563 [==============================] - 347s 222ms/step - loss: 0.6208 - acc: 0.7847 - val_loss: 0.6398 - val_acc: 0.7840\n",
      "Epoch 26/1600\n",
      "1563/1563 [==============================] - 347s 222ms/step - loss: 0.6089 - acc: 0.7904 - val_loss: 0.7026 - val_acc: 0.7713\n",
      "Epoch 27/1600\n",
      "1563/1563 [==============================] - 346s 222ms/step - loss: 0.5999 - acc: 0.7942 - val_loss: 0.6568 - val_acc: 0.7816\n",
      "Epoch 28/1600\n",
      "1563/1563 [==============================] - 346s 221ms/step - loss: 0.5887 - acc: 0.7981 - val_loss: 0.6433 - val_acc: 0.7858\n",
      "Epoch 29/1600\n",
      "1563/1563 [==============================] - 347s 222ms/step - loss: 0.5719 - acc: 0.8018 - val_loss: 0.5925 - val_acc: 0.8029\n",
      "Epoch 30/1600\n",
      "1563/1563 [==============================] - 347s 222ms/step - loss: 0.5633 - acc: 0.8068 - val_loss: 0.6276 - val_acc: 0.7898\n",
      "Epoch 31/1600\n",
      "1563/1563 [==============================] - 347s 222ms/step - loss: 0.5557 - acc: 0.8074 - val_loss: 0.6171 - val_acc: 0.7980\n",
      "Epoch 32/1600\n",
      "1563/1563 [==============================] - 347s 222ms/step - loss: 0.5419 - acc: 0.8137 - val_loss: 0.6830 - val_acc: 0.7844\n",
      "Epoch 33/1600\n",
      "1563/1563 [==============================] - 347s 222ms/step - loss: 0.5450 - acc: 0.8109 - val_loss: 0.5429 - val_acc: 0.8177\n",
      "Epoch 34/1600\n",
      "1563/1563 [==============================] - 344s 220ms/step - loss: 0.5289 - acc: 0.8177 - val_loss: 0.6105 - val_acc: 0.8019\n",
      "Epoch 35/1600\n",
      "1563/1563 [==============================] - 347s 222ms/step - loss: 0.5258 - acc: 0.8207 - val_loss: 0.5748 - val_acc: 0.8108\n",
      "Epoch 36/1600\n",
      "1563/1563 [==============================] - 348s 223ms/step - loss: 0.5161 - acc: 0.8216 - val_loss: 0.6606 - val_acc: 0.7867\n",
      "Epoch 37/1600\n",
      "1563/1563 [==============================] - 347s 222ms/step - loss: 0.5044 - acc: 0.8271 - val_loss: 0.5420 - val_acc: 0.8175\n",
      "Epoch 38/1600\n",
      "1563/1563 [==============================] - 347s 222ms/step - loss: 0.4889 - acc: 0.8319 - val_loss: 0.5583 - val_acc: 0.8168\n",
      "Epoch 39/1600\n",
      "1563/1563 [==============================] - 347s 222ms/step - loss: 0.4892 - acc: 0.8325 - val_loss: 0.5828 - val_acc: 0.8062\n",
      "Epoch 40/1600\n",
      "1563/1563 [==============================] - 347s 222ms/step - loss: 0.4818 - acc: 0.8361 - val_loss: 0.6354 - val_acc: 0.7922\n",
      "Epoch 41/1600\n",
      "1563/1563 [==============================] - 347s 222ms/step - loss: 0.4783 - acc: 0.8364 - val_loss: 0.5275 - val_acc: 0.8271\n",
      "Epoch 42/1600\n",
      "1563/1563 [==============================] - 347s 222ms/step - loss: 0.4747 - acc: 0.8363 - val_loss: 0.5401 - val_acc: 0.8216\n",
      "Epoch 43/1600\n",
      "1563/1563 [==============================] - 347s 222ms/step - loss: 0.4593 - acc: 0.8412 - val_loss: 0.6330 - val_acc: 0.7894\n",
      "Epoch 44/1600\n",
      "1563/1563 [==============================] - 347s 222ms/step - loss: 0.4586 - acc: 0.8412 - val_loss: 0.5487 - val_acc: 0.8184\n",
      "Epoch 45/1600\n",
      "1563/1563 [==============================] - 347s 222ms/step - loss: 0.4477 - acc: 0.8467 - val_loss: 0.4810 - val_acc: 0.8400\n",
      "Epoch 46/1600\n",
      "1563/1563 [==============================] - 347s 222ms/step - loss: 0.4457 - acc: 0.8466 - val_loss: 0.4983 - val_acc: 0.8395\n",
      "Epoch 47/1600\n",
      "1563/1563 [==============================] - 347s 222ms/step - loss: 0.4395 - acc: 0.8478 - val_loss: 0.5182 - val_acc: 0.8286\n",
      "Epoch 48/1600\n",
      "1563/1563 [==============================] - 347s 222ms/step - loss: 0.4297 - acc: 0.8510 - val_loss: 0.4947 - val_acc: 0.8405\n",
      "Epoch 49/1600\n",
      "1563/1563 [==============================] - 347s 222ms/step - loss: 0.4287 - acc: 0.8524 - val_loss: 0.5080 - val_acc: 0.8356\n",
      "Epoch 50/1600\n",
      "1563/1563 [==============================] - 347s 222ms/step - loss: 0.4227 - acc: 0.8528 - val_loss: 0.4574 - val_acc: 0.8483\n",
      "Epoch 51/1600\n",
      "1563/1563 [==============================] - 347s 222ms/step - loss: 0.4203 - acc: 0.8550 - val_loss: 0.4961 - val_acc: 0.8364\n",
      "Epoch 52/1600\n",
      "1563/1563 [==============================] - 347s 222ms/step - loss: 0.4104 - acc: 0.8583 - val_loss: 0.5004 - val_acc: 0.8441\n",
      "Epoch 53/1600\n",
      "1563/1563 [==============================] - 347s 222ms/step - loss: 0.4055 - acc: 0.8592 - val_loss: 0.5015 - val_acc: 0.8339\n",
      "Epoch 54/1600\n",
      "1563/1563 [==============================] - 346s 222ms/step - loss: 0.4010 - acc: 0.8620 - val_loss: 0.5338 - val_acc: 0.8295\n",
      "Epoch 55/1600\n",
      "1563/1563 [==============================] - 346s 221ms/step - loss: 0.4035 - acc: 0.8613 - val_loss: 0.5372 - val_acc: 0.8254\n",
      "Epoch 56/1600\n",
      "1563/1563 [==============================] - 346s 221ms/step - loss: 0.3989 - acc: 0.8624 - val_loss: 0.4556 - val_acc: 0.8529\n",
      "Epoch 57/1600\n",
      "1563/1563 [==============================] - 346s 221ms/step - loss: 0.3892 - acc: 0.8670 - val_loss: 0.5012 - val_acc: 0.8394\n",
      "Epoch 58/1600\n",
      "1563/1563 [==============================] - 346s 221ms/step - loss: 0.3875 - acc: 0.8647 - val_loss: 0.4365 - val_acc: 0.8547\n",
      "Epoch 59/1600\n",
      "1563/1563 [==============================] - 346s 221ms/step - loss: 0.3841 - acc: 0.8681 - val_loss: 0.4959 - val_acc: 0.8433\n",
      "Epoch 60/1600\n",
      "1563/1563 [==============================] - 346s 221ms/step - loss: 0.3757 - acc: 0.8695 - val_loss: 0.4234 - val_acc: 0.8603\n",
      "Epoch 61/1600\n",
      "1563/1563 [==============================] - 346s 221ms/step - loss: 0.3727 - acc: 0.8712 - val_loss: 0.4712 - val_acc: 0.8491\n",
      "Epoch 62/1600\n",
      "1563/1563 [==============================] - 346s 221ms/step - loss: 0.3702 - acc: 0.8714 - val_loss: 0.5034 - val_acc: 0.8426\n",
      "Epoch 63/1600\n",
      "1563/1563 [==============================] - 346s 221ms/step - loss: 0.3678 - acc: 0.8726 - val_loss: 0.4703 - val_acc: 0.8458\n",
      "Epoch 64/1600\n",
      "1563/1563 [==============================] - 346s 221ms/step - loss: 0.3599 - acc: 0.8765 - val_loss: 0.4411 - val_acc: 0.8559\n",
      "Epoch 65/1600\n",
      "1563/1563 [==============================] - 346s 221ms/step - loss: 0.3604 - acc: 0.8771 - val_loss: 0.4049 - val_acc: 0.8670\n",
      "Epoch 66/1600\n",
      "1563/1563 [==============================] - 345s 221ms/step - loss: 0.3579 - acc: 0.8774 - val_loss: 0.4459 - val_acc: 0.8554\n",
      "Epoch 67/1600\n",
      "1563/1563 [==============================] - 346s 221ms/step - loss: 0.3499 - acc: 0.8796 - val_loss: 0.5333 - val_acc: 0.8334\n",
      "Epoch 68/1600\n",
      "1563/1563 [==============================] - 347s 222ms/step - loss: 0.3485 - acc: 0.8803 - val_loss: 0.4329 - val_acc: 0.8590\n",
      "Epoch 69/1600\n",
      "1563/1563 [==============================] - 362s 232ms/step - loss: 0.3449 - acc: 0.8799 - val_loss: 0.4767 - val_acc: 0.8505\n",
      "Epoch 70/1600\n",
      "1563/1563 [==============================] - 365s 234ms/step - loss: 0.3491 - acc: 0.8793 - val_loss: 0.3952 - val_acc: 0.8702\n",
      "Epoch 71/1600\n",
      "1563/1563 [==============================] - 366s 234ms/step - loss: 0.3423 - acc: 0.8814 - val_loss: 0.4209 - val_acc: 0.8649\n",
      "Epoch 72/1600\n",
      "1563/1563 [==============================] - 365s 234ms/step - loss: 0.3383 - acc: 0.8849 - val_loss: 0.4179 - val_acc: 0.8673\n",
      "Epoch 73/1600\n",
      "1563/1563 [==============================] - 364s 233ms/step - loss: 0.3334 - acc: 0.8842 - val_loss: 0.4072 - val_acc: 0.8696\n",
      "Epoch 74/1600\n",
      "1563/1563 [==============================] - 349s 223ms/step - loss: 0.3288 - acc: 0.8859 - val_loss: 0.4620 - val_acc: 0.8542\n",
      "Epoch 75/1600\n",
      "1563/1563 [==============================] - 363s 232ms/step - loss: 0.3280 - acc: 0.8871 - val_loss: 0.4026 - val_acc: 0.8695\n",
      "Epoch 76/1600\n",
      "1563/1563 [==============================] - 362s 232ms/step - loss: 0.3259 - acc: 0.8891 - val_loss: 0.3979 - val_acc: 0.8747\n",
      "Epoch 77/1600\n",
      "1563/1563 [==============================] - 363s 232ms/step - loss: 0.2839 - acc: 0.9010 - val_loss: 0.4227 - val_acc: 0.8695\n",
      "Epoch 78/1600\n",
      "1563/1563 [==============================] - 365s 233ms/step - loss: 0.2782 - acc: 0.9041 - val_loss: 0.4443 - val_acc: 0.8591\n",
      "Epoch 79/1600\n",
      "1563/1563 [==============================] - 367s 235ms/step - loss: 0.2752 - acc: 0.9038 - val_loss: 0.4000 - val_acc: 0.8717\n",
      "Epoch 80/1600\n",
      "1563/1563 [==============================] - 368s 235ms/step - loss: 0.2720 - acc: 0.9054 - val_loss: 0.4311 - val_acc: 0.8659\n",
      "Epoch 81/1600\n",
      "1563/1563 [==============================] - 368s 235ms/step - loss: 0.2648 - acc: 0.9089 - val_loss: 0.4559 - val_acc: 0.8591\n",
      "Epoch 82/1600\n",
      "1563/1563 [==============================] - 368s 236ms/step - loss: 0.2673 - acc: 0.9060 - val_loss: 0.4251 - val_acc: 0.8701\n",
      "Epoch 83/1600\n",
      "1563/1563 [==============================] - 368s 235ms/step - loss: 0.2676 - acc: 0.9072 - val_loss: 0.4097 - val_acc: 0.8735\n",
      "Epoch 84/1600\n",
      "1563/1563 [==============================] - 368s 235ms/step - loss: 0.2628 - acc: 0.9089 - val_loss: 0.4398 - val_acc: 0.8633\n",
      "Epoch 85/1600\n",
      "1563/1563 [==============================] - 366s 234ms/step - loss: 0.2614 - acc: 0.9101 - val_loss: 0.3836 - val_acc: 0.8803\n",
      "Epoch 86/1600\n",
      "1563/1563 [==============================] - 364s 233ms/step - loss: 0.2623 - acc: 0.9084 - val_loss: 0.4367 - val_acc: 0.8641\n",
      "Epoch 87/1600\n",
      "1563/1563 [==============================] - 367s 235ms/step - loss: 0.2576 - acc: 0.9098 - val_loss: 0.4150 - val_acc: 0.8722\n",
      "Epoch 88/1600\n",
      "1563/1563 [==============================] - 368s 236ms/step - loss: 0.2553 - acc: 0.9107 - val_loss: 0.4129 - val_acc: 0.8735\n",
      "Epoch 89/1600\n",
      "1563/1563 [==============================] - 368s 236ms/step - loss: 0.2541 - acc: 0.9110 - val_loss: 0.4048 - val_acc: 0.8745\n",
      "Epoch 90/1600\n",
      "1563/1563 [==============================] - 365s 233ms/step - loss: 0.2545 - acc: 0.9121 - val_loss: 0.4126 - val_acc: 0.8728\n",
      "Epoch 91/1600\n",
      "1563/1563 [==============================] - 366s 234ms/step - loss: 0.2486 - acc: 0.9129 - val_loss: 0.3969 - val_acc: 0.8797\n",
      "Epoch 92/1600\n",
      "1563/1563 [==============================] - 366s 234ms/step - loss: 0.2505 - acc: 0.9120 - val_loss: 0.4304 - val_acc: 0.8683\n",
      "Epoch 93/1600\n",
      "1563/1563 [==============================] - 348s 223ms/step - loss: 0.2447 - acc: 0.9138 - val_loss: 0.3902 - val_acc: 0.8801\n",
      "Epoch 94/1600\n",
      "1563/1563 [==============================] - 347s 222ms/step - loss: 0.2486 - acc: 0.9145 - val_loss: 0.3880 - val_acc: 0.8774\n",
      "Epoch 95/1600\n",
      "1563/1563 [==============================] - 347s 222ms/step - loss: 0.2445 - acc: 0.9139 - val_loss: 0.4346 - val_acc: 0.8712\n"
     ]
    }
   ],
   "source": [
    "if not data_augmentation:\n",
    "    history = model.fit(X_train, y_train,\n",
    "          batch_size=batch_size,\n",
    "          epochs=epochs,\n",
    "          validation_data=(X_val, y_val),\n",
    "          shuffle=True)\n",
    "else:\n",
    "    history = model.fit_generator(datagen.flow(X_train, y_train,\n",
    "                                               batch_size=batch_size),\n",
    "                                  epochs=epochs, \n",
    "                                  validation_data=(X_val, y_val), \n",
    "                                  workers=4,\n",
    "                                  verbose=1,\n",
    "                                  callbacks=callbacks)"
   ]
  },
  {
   "cell_type": "code",
   "execution_count": 18,
   "metadata": {},
   "outputs": [
    {
     "name": "stdout",
     "output_type": "stream",
     "text": [
      "10000/10000 [==============================] - 21s 2ms/step\n",
      "Val loss: 0.43456565600633623\n",
      "Val accuracy: 0.8712\n"
     ]
    }
   ],
   "source": [
    "# Score trained model.\n",
    "scores = model.evaluate(X_val, y_val, verbose=1)\n",
    "print('Val loss:', scores[0])\n",
    "print('Val accuracy:', scores[1])"
   ]
  },
  {
   "cell_type": "code",
   "execution_count": 19,
   "metadata": {},
   "outputs": [],
   "source": [
    "import matplotlib.pyplot as plt\n",
    "%matplotlib inline\n",
    "\n",
    "def show_train_history(train_history, y_label = 'Accuracy', train_metric = 'acc', val_metric = 'val_acc'):\n",
    "    # plot training history\n",
    "    plt.plot(history.history[train_metric])\n",
    "    plt.plot(history.history[val_metric])\n",
    "    plt.title('Training history')\n",
    "    plt.ylabel(y_label)\n",
    "    plt.xlabel('Epoch')\n",
    "    plt.legend(['train', 'val'], loc='upper left')\n",
    "    plt.show()"
   ]
  },
  {
   "cell_type": "code",
   "execution_count": 20,
   "metadata": {},
   "outputs": [
    {
     "data": {
      "image/png": "[encoded data removed]",
      "text/plain": [
       "<Figure size 432x288 with 1 Axes>"
      ]
     },
     "metadata": {},
     "output_type": "display_data"
    }
   ],
   "source": [
    "show_train_history(history)"
   ]
  },
  {
   "cell_type": "code",
   "execution_count": 21,
   "metadata": {},
   "outputs": [
    {
     "data": {
      "image/png": "[encoded data removed]",
      "text/plain": [
       "<Figure size 432x288 with 1 Axes>"
      ]
     },
     "metadata": {},
     "output_type": "display_data"
    }
   ],
   "source": [
    "show_train_history(history, y_label = 'Loss', train_metric = 'loss', val_metric = 'val_loss')"
   ]
  },
  {
   "cell_type": "markdown",
   "metadata": {},
   "source": [
    "## 7. Save Weight to h5"
   ]
  },
  {
   "cell_type": "code",
   "execution_count": 22,
   "metadata": {},
   "outputs": [
    {
     "data": {
      "text/plain": [
       "0.8712"
      ]
     },
     "execution_count": 22,
     "metadata": {},
     "output_type": "execute_result"
    }
   ],
   "source": [
    "score = model.evaluate(X_val, y_val, verbose=0)[1]\n",
    "score"
   ]
  },
  {
   "cell_type": "code",
   "execution_count": 23,
   "metadata": {},
   "outputs": [
    {
     "name": "stdout",
     "output_type": "stream",
     "text": [
      "Saved model weights to SavedModel/cifar10-cnn-deep-0.8712.h5\n"
     ]
    }
   ],
   "source": [
    "filename = 'SavedModel/cifar10-cnn-deep-{}.h5'.format(score)\n",
    "model.save_weights(filename)\n",
    "print('Saved model weights to ' + filename)"
   ]
  },
  {
   "cell_type": "markdown",
   "metadata": {},
   "source": [
    "## 8. Predict"
   ]
  },
  {
   "cell_type": "code",
   "execution_count": 24,
   "metadata": {},
   "outputs": [],
   "source": [
    "prediction = model.predict_classes(X_test)"
   ]
  },
  {
   "cell_type": "code",
   "execution_count": 25,
   "metadata": {},
   "outputs": [],
   "source": [
    "labels = [ class_to_label[prediction[i]] for i in range(len(prediction))]"
   ]
  },
  {
   "cell_type": "markdown",
   "metadata": {},
   "source": [
    "# 9. Submit"
   ]
  },
  {
   "cell_type": "code",
   "execution_count": 26,
   "metadata": {},
   "outputs": [],
   "source": [
    "df_submission = pd.DataFrame(data = { 'id': test_ids, 'label': labels }, columns = [ 'id', 'label' ])"
   ]
  },
  {
   "cell_type": "code",
   "execution_count": 27,
   "metadata": {},
   "outputs": [],
   "source": [
    "df_submission.to_csv('output/submission-{}.csv'.format(score), index=False)"
   ]
  }
 ],
 "metadata": {
  "kernelspec": {
   "display_name": "Python 3",
   "language": "python",
   "name": "python3"
  },
  "language_info": {
   "codemirror_mode": {
    "name": "ipython",
    "version": 3
   },
   "file_extension": ".py",
   "mimetype": "text/x-python",
   "name": "python",
   "nbconvert_exporter": "python",
   "pygments_lexer": "ipython3",
   "version": "3.6.5"
  }
 },
 "nbformat": 4,
 "nbformat_minor": 2
}
